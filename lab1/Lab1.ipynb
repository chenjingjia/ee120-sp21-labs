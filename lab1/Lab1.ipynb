{
 "cells": [
  {
   "cell_type": "markdown",
   "id": "mediterranean-serial",
   "metadata": {
    "id": "d0-cHnVE5gjb"
   },
   "source": [
    "# Lab 1 \n",
    "## EE120 Spring 2021\n",
    "## Functional MRI analysis\n",
    "Jingjia Chen, Naomi Sagan, Leyla Kabuli\n",
    "\n",
    "Feb 8, 2020"
   ]
  },
  {
   "cell_type": "markdown",
   "id": "mechanical-humanity",
   "metadata": {
    "id": "YRRmGByP5gjh"
   },
   "source": [
    "# Table of Contents\n",
    "* [Q0: What is fMRI](#q0)\n",
    "   \n",
    "* [Q1: Correlation](#q1)\n",
    "    * [Q1.1: Implement cross correlation](#q11)\n",
    "    * [Q1.2: test your code (1)](#q12)\n",
    "    * [Q1.3: test your code (2)](#q13)\n",
    "* [Q2: If brain is LTI](#q2)\n",
    "    * [Q2.1: cross correlation, correlation coefficient (for test signal)](#q21)\n",
    "    * [Q2.2 cross correlation analysis (for fMRI signal)](#q22)"
   ]
  },
  {
   "cell_type": "markdown",
   "id": "square-token",
   "metadata": {
    "id": "U9OGmgsJ5gji"
   },
   "source": [
    "<a id='q0'></a>\n",
    "## 0. What is fMRI?\n",
    "In this Lab, we will implement and perform correlation-based analysis on functional MRI.\n",
    "\n",
    "Functional MRI (fMRI) is a non-invasive method for detecting real-time and regional brain activities. The fluctuation of the blood oxygen level reflects the activation of neurons within the region of blood supply. A measure of using cross correlations between sensory input and brain's heamodynamic response is commonly used for fMRI time series analysis<sup><cite>[1]</cite></sup>.\n",
    "\n",
    "\n",
    "\n",
    "fMRI has widely been applied in many studies in cognitive and behaviour neuroscience, from monitoring neurodegenerative diseases progression <sup><cite>[2]</cite></sup>, understanding psychological pathology <sup><cite>[2]</cite></sup>, to decoding brain function <sup><cite>[3]</cite></sup>, etc.\n",
    "\n",
    "\n",
    "\n",
    "First, let's load the data we will be working with."
   ]
  },
  {
   "cell_type": "code",
   "execution_count": null,
   "id": "gentle-casting",
   "metadata": {
    "colab": {
     "base_uri": "https://localhost:8080/"
    },
    "executionInfo": {
     "elapsed": 3455,
     "status": "ok",
     "timestamp": 1613071663626,
     "user": {
      "displayName": "Naomi Sagan",
      "photoUrl": "",
      "userId": "10180410096341779080"
     },
     "user_tz": 480
    },
    "id": "hkgc5Sh95gji",
    "outputId": "d5e27275-84af-41b5-c17b-984cb113dd26"
   },
   "outputs": [],
   "source": [
    "!pip3 install nibabel"
   ]
  },
  {
   "cell_type": "code",
   "execution_count": null,
   "id": "connected-criterion",
   "metadata": {
    "executionInfo": {
     "elapsed": 3920,
     "status": "ok",
     "timestamp": 1613071664117,
     "user": {
      "displayName": "Naomi Sagan",
      "photoUrl": "",
      "userId": "10180410096341779080"
     },
     "user_tz": 480
    },
    "id": "Nal_5erf5gjj"
   },
   "outputs": [],
   "source": [
    "import nibabel as nib\n",
    "import numpy as np\n",
    "import scipy.signal as spsig\n",
    "import scipy.stats as spstat\n",
    "import matplotlib.pyplot as plt\n",
    "%matplotlib inline\n",
    "plt.style.use('seaborn-whitegrid')"
   ]
  },
  {
   "cell_type": "code",
   "execution_count": null,
   "id": "handed-vancouver",
   "metadata": {
    "colab": {
     "base_uri": "https://localhost:8080/",
     "height": 435
    },
    "executionInfo": {
     "elapsed": 3891,
     "status": "error",
     "timestamp": 1613071664125,
     "user": {
      "displayName": "Naomi Sagan",
      "photoUrl": "",
      "userId": "10180410096341779080"
     },
     "user_tz": 480
    },
    "id": "dLtNHnYP5gjk",
    "outputId": "2162dbca-9c97-4683-cf8d-5943dafbfb7b"
   },
   "outputs": [],
   "source": [
    "brain_img = nib.load('fMRI_ref_image.nii')\n",
    "fMRI = nib.load('fMRI_slice.nii')\n",
    "brain_img = brain_img.get_fdata()\n",
    "fMRI = fMRI.get_fdata()"
   ]
  },
  {
   "cell_type": "code",
   "execution_count": null,
   "id": "equipped-wyoming",
   "metadata": {
    "id": "pgCMzi8Z5gjk",
    "outputId": "cf802644-b8ad-4844-96ef-7a0fefed0fb0"
   },
   "outputs": [],
   "source": [
    "brain_img.shape"
   ]
  },
  {
   "cell_type": "code",
   "execution_count": null,
   "id": "hazardous-incident",
   "metadata": {
    "id": "g-nwUfOL5gjl",
    "outputId": "378ce20f-917b-4411-ee04-9647d7713e7f"
   },
   "outputs": [],
   "source": [
    "fMRI.shape"
   ]
  },
  {
   "cell_type": "markdown",
   "id": "silent-capital",
   "metadata": {
    "id": "vGXcSCeI5gjl"
   },
   "source": [
    "Now we have 2 matrices of brain images that we will be using for this lab. The first one, \"brain_img\" is one slice of brain image, that we will be using as a reference image for display purposes. The second one, \"fMRI\" is the time series images of the same slice being scanned and saved every 3 seconds. There are in total 120 time points. So you will know the total acquisition time is $3 \\text{ sec} *120 = 360 \\text{ seconds} = 6 \\text{ min}$.\n",
    "\n",
    "Let's take a look at the slice of brain we are working with."
   ]
  },
  {
   "cell_type": "code",
   "execution_count": null,
   "id": "protected-briefs",
   "metadata": {
    "id": "oSc0MH-35gjl",
    "outputId": "6f1186db-68b2-427f-822f-4817454817dd"
   },
   "outputs": [],
   "source": [
    "fig = plt.figure(figsize=(8,8))\n",
    "plt.imshow(brain_img,cmap='gray')\n",
    "plt.colorbar()\n",
    "plt.axis('off');"
   ]
  },
  {
   "cell_type": "markdown",
   "id": "destroyed-custom",
   "metadata": {
    "id": "KtFNVz_k5gjm"
   },
   "source": [
    "<a id='q1'></a>\n",
    "## 1. Correlation"
   ]
  },
  {
   "cell_type": "markdown",
   "id": "stupid-enemy",
   "metadata": {
    "id": "OSLLJi8c5gjm"
   },
   "source": [
    "<a id='q11'></a>\n",
    "### 1.1 Implement cross correlation\n",
    "Suppose you are given 2 discrete time signal $x[n]$ and $y[n]$ of arbitraty length. Denote the cross correlation of $x[n]$ and $y[n]$ as $$R_{x,y}[n] = x[n]\\circ y[n] = \\sum_k x[k]y[k + n].$$\n",
    "\n",
    "Based on this, we will implement a function to calculate the cross correlation between two signals.\n",
    "\n",
    "To do so, we will have to give some thought to the dimensions of the input and output signals.\n",
    "\n",
    "#### For the implementation of this, there are a few things you should keep in mind:\n",
    "1. What will the length of the output signal be in terms of $N = \\text{len}(x[n])$ and $M = \\text{len}(y[n])$? If you aren't sure, try correlating a few length-2 or 3 signals manually and see what the length of the output is (where is it nonzero?).\n",
    "2. Each index $n$ of the correlation is the element-wise multiplication of $x[k]$ with a version of $y[k]$ shifted $n$ to the left. In order to implement this easily using Numpy, we must <b> zero-pad </b> our signals to target output signal length, i.e. concatenate $x[k]$ and $y[k]$ with arrays of zeros using <a href=\"https://numpy.org/doc/stable/reference/generated/numpy.concatenate.html\"> np.concarenate</a>.\n",
    "  * Think of the first index of the cross correlation function, which corresponds to the smallest $n$ such that the correlation is nonzero. For how many indices to the left or right of $x[k]$ does $y[k + n]$ extend? Zero-pad $x[k]$ by that amount. For instance, if $y[k + n]$ extends 1 index past the right of $x[k]$, you would add one $0$ to the right of $x$.\n",
    "  * Follow the same process for the last index of the convolution.\n",
    "  * Finally, how can you zero-pad $y$ so that it is the same length of $x$? Does it make sense to pad $y$ with zeros to the left or the right? The padding for $y$ will need to change as you will need to \"slide\" $y[k]$ along the axis of $k$ in order to calculate for different $n$."
   ]
  },
  {
   "cell_type": "code",
   "execution_count": null,
   "id": "comic-spain",
   "metadata": {
    "id": "JLD_R3sn5gjm"
   },
   "outputs": [],
   "source": [
    "def my_xcorr(xx,yy):\n",
    "    ## your code here\n",
    "    # the total length of the resultant cross correlation is length(xx)+length(yy)-1        \n",
    "    # Padding zeros according to the process outlined in the instructions\n",
    "    # Define a Numpy array for the output.\n",
    "    # Shift yy_pad to the left to achieve y[k+n]\n",
    "    return corr"
   ]
  },
  {
   "cell_type": "markdown",
   "id": "sudden-tension",
   "metadata": {
    "id": "MIisqQSQ5gjm"
   },
   "source": [
    "<a id='q12'></a>\n",
    "### 1.2 Test your code (1)\n",
    "Now we need to test if your code correctly compute the cross corrlation of two signal. For the following 2 signals provided in form of 1D array. Treat them as input of your function, and compare your result with the result from correlation function in Numpy module.\n",
    "\n",
    "<strong> Note: Numpy defines correlation differently than we do in this class, so you must <em>switch the order of two inputs</em> when doing correlations with Numpy.</strong>"
   ]
  },
  {
   "cell_type": "code",
   "execution_count": null,
   "id": "cognitive-prize",
   "metadata": {
    "id": "iUbiMLeZ5gjn"
   },
   "outputs": [],
   "source": [
    "# signals to compute the cross-correlation\n",
    "signal1 = np.array([0, 1, 2, 3, 3, 2, 1, 0],dtype='double')\n",
    "signal2 = np.array([1, 2, 3, 1, 1],dtype='double')"
   ]
  },
  {
   "cell_type": "code",
   "execution_count": null,
   "id": "boring-persian",
   "metadata": {
    "id": "xpEBMMZF5gjn",
    "outputId": "8adee820-b8d5-4ce9-fdf1-12db0a9531e5"
   },
   "outputs": [],
   "source": [
    "print(my_xcorr(signal1,signal2))"
   ]
  },
  {
   "cell_type": "code",
   "execution_count": null,
   "id": "female-pencil",
   "metadata": {
    "id": "Rt9olv0q5gjn",
    "outputId": "9cdaeb1c-a80e-4ac2-aff4-b6e5c3d2c884"
   },
   "outputs": [],
   "source": [
    "# Numpy correlation. Note that signal2 is the first input instead of signal1.\n",
    "print(np.correlate(signal2, signal1, 'full'))"
   ]
  },
  {
   "cell_type": "markdown",
   "id": "academic-inspiration",
   "metadata": {
    "id": "3SFyP9Fa5gjo"
   },
   "source": [
    "Does your result match the result from Numpy?"
   ]
  },
  {
   "cell_type": "code",
   "execution_count": null,
   "id": "canadian-combination",
   "metadata": {
    "id": "6olE5_gf5gjo",
    "outputId": "b3405db8-2fbc-4ba6-f3e0-b94ea637e297"
   },
   "outputs": [],
   "source": [
    "np.equal(np.correlate(signal2, signal1, 'full'),my_xcorr(signal1,signal2)).all()"
   ]
  },
  {
   "cell_type": "markdown",
   "id": "architectural-friday",
   "metadata": {
    "id": "6sBCwGlY5gjp"
   },
   "source": [
    "<a id='q13'></a>\n",
    "### 1.3 Test your code (2)\n",
    "\n",
    "In homework 3, problem 6, you were given 2 signals $$x(t) = \\begin{cases} 0 & t<0 \\text{ and } t>3 \\\\2& 0<t<3\\end{cases}$$ and $$g(t) = e^{-t/2}u(t)$$\n",
    "\n",
    "<b> Now, use the `my_xcorr` function you wrote to compute the correlations from problem 6.2 ($R_{x, g}(t)$) and 6.3 ($R_{g, x}(t)$). </b>\n",
    "\n",
    "\n",
    "Note that computers cannot deal with a continuous range of points, so you will need to discretize the time variable $t$ with very small intervals to approach the continuous time signal appearance. To do so, look into the <a href=\"https://numpy.org/doc/stable/reference/generated/numpy.linspace.html\"> np.linspace </a> function to produce a range of time values.\n",
    "\n",
    "Plot $R_{x,g}(t)$ and $R_{g,x}(t)$ for $t\\in (-10,10)$.\n",
    "\n",
    "<b> Hints: </b>\n",
    "* You might notice that your correlation plots are the same shape as what you got in the homework, but scaled vertically by a large amount. This is because you are estimating the integral equation for correlation as a sum over many very closely-spaced points. This is close to the Riemann sum approximation of an integral ($\\int y\\,dt \\approx  \\sum y\\delta t$) but missing one thing. How can you make your method match the Riemann sum method?\n",
    "* The output will cover a different range of times than the inputs. Keep this in mind."
   ]
  },
  {
   "cell_type": "code",
   "execution_count": null,
   "id": "bridal-biodiversity",
   "metadata": {
    "id": "onGcu0kZ5gjp",
    "outputId": "1e73c588-78f7-484e-b7e8-98272607ab14"
   },
   "outputs": [],
   "source": [
    "## your code here\n",
    "## define two signals x and g\n",
    "## calculate cross correlation \n",
    "\n",
    "# rxg = my_xcorr(x,g)*dt\n",
    "# rgx = my_xcorr(g,x)*dt\n",
    "    # rememeber to multiply the result with dt, the sampled time interval\n",
    "    # as we are using discrete array to approach a continuous signal\n",
    "    # the cross correlation formular for continuous time has a 'dt' inside integral\n",
    "    # for discrete time case, dt is automatically treated as 1\n",
    "\n",
    "## plot your cross correlation rxg and rgx"
   ]
  },
  {
   "cell_type": "markdown",
   "id": "fossil-ethnic",
   "metadata": {
    "id": "oHFml4Ig5gjp"
   },
   "source": [
    "<a id='q2'></a>\n",
    "## 2.  If the brain is LTI\n",
    "\n",
    "Now you have implemented a very powerful tool, cross correlation, which is widely applied in functional MRI analysis research. Let's assume the brain is a LTI system. Note that the brain is not completely LTI, as you can argue considering that your reaction to a horror movie is different if you watch it today or if you watched it back when you were 7 years old. However, for simple input (for example, eating a sour blueberry), within short period of time (with in minutes), this assumption is valid.\n",
    "\n",
    "For a typical LTI system, if the input include a certain pattern, the output will be highly correlated with the pattern found in the input. This means that, if we perform a cross-correlation of the output and the input, one or more indices of the correlation will be reasonably large. In other words, there will be one or more significant peaks.\n",
    "\n",
    "\n",
    "<a id='q21'></a>\n",
    "### 2.1 Cross correlation and correlation coefficients (for test signals)\n",
    "It is common practice in time series analysis to normalize the cross-correlation function to get a time-dependent Pearson correlation coefficient. In our case, in order to make use of the cross correlation function we implemented, instead, we will send **zero centered (zero-mean) and normalized** signals to the function. Then the maximum value of cross correlation is defined as the *Pearson correlation coefficient*. \n",
    "\n",
    "**The closer the Pearson coeffecient is to 1, the more highly-correlated two signals are.**"
   ]
  },
  {
   "cell_type": "markdown",
   "id": "baking-pride",
   "metadata": {},
   "source": [
    "Consider a system the produces output $y[n] = 5x[n+1]$ for input $x[n]$. For $x[n] = 2\\cos[n/5]$ as the input to this LTI system, the corresponding output is $y[n] = 10\\cos[n/5 + 1/5]$. Consider the range of $n\\in [-30,30]$.\n",
    "\n",
    "First, we need to shift $x[n]$ and $y[n]$ so that they are zero-centered, aka zero mean."
   ]
  },
  {
   "cell_type": "code",
   "execution_count": null,
   "id": "prostate-schedule",
   "metadata": {
    "id": "uLbByuhD5gjq"
   },
   "outputs": [],
   "source": [
    "## your code here\n",
    "    # define x and y\n",
    "    # center x and y"
   ]
  },
  {
   "cell_type": "markdown",
   "id": "heard-latest",
   "metadata": {
    "id": "GK8Df_Ii5gjq"
   },
   "source": [
    "Secondly, normalize the centered versions of x and y such that their L2-norm is 1. Hint: use <a href=\"https://numpy.org/doc/stable/reference/generated/numpy.linalg.norm.html\">np.linalg.norm</a>."
   ]
  },
  {
   "cell_type": "code",
   "execution_count": null,
   "id": "stone-newcastle",
   "metadata": {
    "id": "OinvZWyt5gjq"
   },
   "outputs": [],
   "source": [
    "## your code here\n",
    "    # normalize x and y"
   ]
  },
  {
   "cell_type": "markdown",
   "id": "mathematical-library",
   "metadata": {
    "id": "XF23clIO5gjq"
   },
   "source": [
    "If your normalization procedure (step 1. zero mean, step 2. scale by norm) is done properly, the variance of each signal should be 1. Test with your my_xcorr function. The variance of a signal is equivalent to the maximum value of normalized autocorrealtion (cross correlation of a signal to itself)."
   ]
  },
  {
   "cell_type": "code",
   "execution_count": null,
   "id": "ultimate-wildlife",
   "metadata": {
    "id": "EixkdKxp5gjq",
    "outputId": "dce4b331-b2d4-43bb-8e16-aa5e480cac32"
   },
   "outputs": [],
   "source": [
    "# test if the variance of normalized x is 1\n",
    "# my_xcorr(normalized x, normalized x).max()"
   ]
  },
  {
   "cell_type": "code",
   "execution_count": null,
   "id": "aging-pulse",
   "metadata": {
    "id": "OhFexDzF5gjr",
    "outputId": "3559626a-952d-418d-9666-58527ad1e1a3"
   },
   "outputs": [],
   "source": [
    "# test if the variance of normalized y is 1\n",
    "# my_xcorr(normalized y, normalized y).max()"
   ]
  },
  {
   "cell_type": "markdown",
   "id": "literary-sunglasses",
   "metadata": {
    "id": "KcVPRyOH5gjr"
   },
   "source": [
    "Now, with zero centered and normalized signals, let's calculate the Pearson correlation coefficient of them. Complare your result with Scipy built-in function scipy.stats.pearsonr. \n",
    "\n",
    "We have *imported scipy.stats as spstat* in the very beginning, so just use *spstat.pearsonr*, and the first return is the Pearson correlation coefficient. (*spstat.pearsonr(x,y)[0]*)\n",
    "\n",
    "You may see a slight difference (<0.001) between your version and the Scipy version. This is the result of numerical error."
   ]
  },
  {
   "cell_type": "code",
   "execution_count": null,
   "id": "controversial-export",
   "metadata": {
    "id": "xkxa4ohJ5gjr",
    "outputId": "c37cf872-12a8-4a63-cb05-448f35e12043"
   },
   "outputs": [],
   "source": [
    "## correlation coefficient by my_xcorr\n",
    "# my_xcorr(normalized x, normalized y).max()"
   ]
  },
  {
   "cell_type": "code",
   "execution_count": null,
   "id": "based-sunglasses",
   "metadata": {
    "id": "3XZPSibp5gjr",
    "outputId": "94fab3c3-4739-43d4-a489-8def102e305a"
   },
   "outputs": [],
   "source": [
    "## correlation coefficient by scipy built-in function\n",
    "# spstat.pearsonr(normalized x, normalized y)[0]"
   ]
  },
  {
   "cell_type": "markdown",
   "id": "casual-eight",
   "metadata": {
    "id": "PELAatqp5gjr"
   },
   "source": [
    "You will see that the input and output are highly correlated, with a Pearson coefficient close to 1. \n",
    "\n",
    "Now assume that at some moment, the system breaks down, and starts to yield random numbers as output. Use <a href=\"https://numpy.org/doc/stable/reference/random/generated/numpy.random.rand.html\">numpy.random.rand</a> to simulate the situation, what is the correlation coefficient now? (*remember to zero-center and normalize your random number output!*)"
   ]
  },
  {
   "cell_type": "code",
   "execution_count": null,
   "id": "solved-constitution",
   "metadata": {
    "id": "nRk9cUWy5gjs",
    "outputId": "1a2f48a7-80fb-40e0-beef-df31f2da9fdd"
   },
   "outputs": [],
   "source": [
    "## make a random output\n",
    "## my_xcorr(normalized x, normalized random output).max()"
   ]
  },
  {
   "cell_type": "markdown",
   "id": "aquatic-nursery",
   "metadata": {
    "id": "Bf63gNtp5gjs"
   },
   "source": [
    "The output is hardly correlated with the input when the system is broken and outputing random noise."
   ]
  },
  {
   "cell_type": "markdown",
   "id": "bored-nitrogen",
   "metadata": {
    "id": "Za1Owu9e5gjs"
   },
   "source": [
    "<a id='q22'></a>\n",
    "### 2.2 Cross correlation analysis (for fMRI signals)\n",
    "We have loaded an three-dimension array of data named \"fMRI\". The three dimensions are x, y and time. The data was acquired while the subject performed an auditory guided finger tapping experiment. A blocked design scheme was used: 15 seconds rest, 15 seconds finger tapping, 15 seconds rest, 15 seconds, finger tapping,... repeat until 6 min is reached. Every 3 seconds, we acquire the brain image data once. Therefore, in total, 6 min, we have 120 brain slice images, and 30 seconds is the period of the task (input)."
   ]
  },
  {
   "cell_type": "code",
   "execution_count": null,
   "id": "aggressive-viking",
   "metadata": {
    "id": "Zx8ctJLa5gjt"
   },
   "outputs": [],
   "source": [
    "import numpy.matlib"
   ]
  },
  {
   "cell_type": "code",
   "execution_count": null,
   "id": "configured-realtor",
   "metadata": {
    "id": "bIDP6D445gju",
    "outputId": "18c83d6c-124b-450c-eecf-e677357cf6ca"
   },
   "outputs": [],
   "source": [
    "reference = np.squeeze(np.matlib.repmat(np.array([0,0,0,0,0,1,1,1,1,1]),1,12))\n",
    "fig = plt.figure(figsize=(15, 3))\n",
    "plt.title(\"Input signal\")\n",
    "plt.stem(np.arange(1,121),reference)\n",
    "plt.yticks([0, 1],['Off', 'On'])\n",
    "plt.show"
   ]
  },
  {
   "cell_type": "markdown",
   "id": "related-university",
   "metadata": {
    "id": "pVWcdHxm5gju"
   },
   "source": [
    "Treat this test guide as the input to the brain. The time series signal at each pixel (x, y) of the brain image will then be the output of that small chunk of brain. From intuition, we know that, some region of brain will be more associated with limb (finger) movement than other region. Since correlation coefficient is a metric indicating how well two signals are correlated, if we correlate time series of each pixel in brain to the input reference signal, we will see which region is more related to the singer tapping task.\n",
    "\n",
    "**Your job:** for each pixel, find the correlation coefficient using my_xcorr that you implemented in Q1. Your final result will be presented as a correlation image of the brain. (Remember to **center and normalize** your time series signals before feeding them into `my_xcorr`.)\n",
    "\n",
    "If you want to go fancy, you can overlay your correlation coefficient result on top of the brain slice image *brain_img* by using <a href=\"https://numpy.org/doc/stable/reference/generated/numpy.ma.masked_array.html\">np.ma.masked_array</a>.\n",
    "\n",
    "(The images in the *fMRI* 3D array have already gone through regular fMRI preprocessing including motion correction, registration, etc.)"
   ]
  },
  {
   "cell_type": "code",
   "execution_count": null,
   "id": "collectible-difference",
   "metadata": {
    "id": "4VeedmcB5gjv",
    "outputId": "26d0e9d3-195c-4d1c-8a56-8b7c0fed63cd"
   },
   "outputs": [],
   "source": [
    "## your code here"
   ]
  },
  {
   "cell_type": "markdown",
   "id": "tired-logic",
   "metadata": {
    "id": "W1GlWxP15gjw"
   },
   "source": [
    "If you are familiar with brain anatomy, you will realize that this highly activated region locates at [motor cortex](https://en.wikipedia.org/wiki/Motor_cortex)<sup><cite>[5]</cite></sup>."
   ]
  },
  {
   "cell_type": "markdown",
   "id": "organic-phenomenon",
   "metadata": {
    "id": "QNeAnBwx5gjw"
   },
   "source": [
    "### Reference\n",
    "\n",
    "[1]: Friston, K. J., et al. (1994). Human brain mapping, 1(2), 153-171.\n",
    "\n",
    "[2]: Sen, S., et al. (2010). Neuroscience, 166(2), 712-719.\n",
    "\n",
    "[3]: Cortese, S., et al. American Journal of Psychiatry 169.10 (2012): 1038-1055.\n",
    "\n",
    "[4]: Gaillard, W. D., et al. Neurology 63.8 (2004): 1403-1408.\n",
    "\n",
    "[5]:  Wikipedia, Motor cortex"
   ]
  },
  {
   "cell_type": "code",
   "execution_count": null,
   "id": "successful-printing",
   "metadata": {
    "id": "4iK5JzjZ5gjw"
   },
   "outputs": [],
   "source": []
  }
 ],
 "metadata": {
  "colab": {
   "name": "Lab1_sol.ipynb",
   "provenance": []
  },
  "kernelspec": {
   "display_name": "Python 3",
   "language": "python",
   "name": "python3"
  },
  "language_info": {
   "codemirror_mode": {
    "name": "ipython",
    "version": 3
   },
   "file_extension": ".py",
   "mimetype": "text/x-python",
   "name": "python",
   "nbconvert_exporter": "python",
   "pygments_lexer": "ipython3",
   "version": "3.9.1"
  }
 },
 "nbformat": 4,
 "nbformat_minor": 5
}
